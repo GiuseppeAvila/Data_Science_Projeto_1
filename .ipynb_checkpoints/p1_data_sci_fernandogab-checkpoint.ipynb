{
 "cells": [
  {
   "cell_type": "markdown",
   "metadata": {},
   "source": [
    "# Projeto 1 - Ciência dos Dados"
   ]
  },
  {
   "cell_type": "markdown",
   "metadata": {},
   "source": [
    "Nome: Fernando Giuseppe Avila Beltramo"
   ]
  },
  {
   "cell_type": "markdown",
   "metadata": {},
   "source": [
    "## Pergunta (s) a ser respondida"
   ]
  },
  {
   "cell_type": "markdown",
   "metadata": {},
   "source": [
    "Q1: Países que se juntam ao Digital 9 tiveram aumento notável em usuários da internet?"
   ]
  },
  {
   "cell_type": "markdown",
   "metadata": {},
   "source": [
    "## Explicação da hipótese e mecanismo"
   ]
  },
  {
   "cell_type": "markdown",
   "metadata": {},
   "source": [
    "O Digital 9 (Digital 5 até 2018) é uma rede colaborativa de E-Governments com o objetivo comum de melhorar a vida dos cidadãos através do emprego de tecnologia digital. Pode-se inferir que países membros deste grupo possuam níveis de acessibilidade à Internet elevados.\n",
    "\n",
    ">Mais sobre o Digital 9: https://www.digital.govt.nz/digital-government/international-partnerships/the-digital-9/\n",
    "\n",
    ">Mais sobre o Digital 5: https://www.digital.govt.nz/digital-government/international-partnerships/the-digital-9/d5-summit/"
   ]
  },
  {
   "cell_type": "markdown",
   "metadata": {},
   "source": [
    "## Bases de dados usadas"
   ]
  },
  {
   "cell_type": "markdown",
   "metadata": {},
   "source": [
    "Pessoas usando a Internet (%):\n",
    "\n",
    ">Site - https://data.worldbank.org/indicator/IT.NET.USER.ZS\n",
    "\n",
    ">Excel - http://api.worldbank.org/v2/en/indicator/IT.NET.USER.ZS?downloadformat=excel"
   ]
  },
  {
   "cell_type": "markdown",
   "metadata": {},
   "source": [
    "## Análise de dados"
   ]
  },
  {
   "cell_type": "markdown",
   "metadata": {},
   "source": [
    "Insira abaixo uma análise de dados tratada para ter maior clareza. \n",
    "\n",
    "Lembre-se de que, além deste arquivo principal, você precisa entregar um ou mais *notebooks* mais brutos com todas as tentativas que fez e que não deram certo .\n",
    "\n",
    "**Não inclua dados ou gráficos sem motivação nem interpretação** - sempre que fizer uma análise, plot ou tablea, diga qual sua intenção. Logo após a apresentação diga qual conclusão específica ou interpretação você tira daquela análise"
   ]
  },
  {
   "cell_type": "code",
   "execution_count": 1,
   "metadata": {},
   "outputs": [
    {
     "data": {
      "text/html": [
       "<div>\n",
       "<style scoped>\n",
       "    .dataframe tbody tr th:only-of-type {\n",
       "        vertical-align: middle;\n",
       "    }\n",
       "\n",
       "    .dataframe tbody tr th {\n",
       "        vertical-align: top;\n",
       "    }\n",
       "\n",
       "    .dataframe thead th {\n",
       "        text-align: right;\n",
       "    }\n",
       "</style>\n",
       "<table border=\"1\" class=\"dataframe\">\n",
       "  <thead>\n",
       "    <tr style=\"text-align: right;\">\n",
       "      <th></th>\n",
       "      <th>1990</th>\n",
       "      <th>1992</th>\n",
       "      <th>1993</th>\n",
       "      <th>1994</th>\n",
       "      <th>1995</th>\n",
       "      <th>1996</th>\n",
       "      <th>1997</th>\n",
       "      <th>1998</th>\n",
       "      <th>1999</th>\n",
       "      <th>2000</th>\n",
       "      <th>...</th>\n",
       "      <th>2008</th>\n",
       "      <th>2009</th>\n",
       "      <th>2010</th>\n",
       "      <th>2011</th>\n",
       "      <th>2012</th>\n",
       "      <th>2013</th>\n",
       "      <th>2014</th>\n",
       "      <th>2015</th>\n",
       "      <th>2016</th>\n",
       "      <th>2017</th>\n",
       "    </tr>\n",
       "  </thead>\n",
       "  <tbody>\n",
       "    <tr>\n",
       "      <th>Estonia</th>\n",
       "      <td>0.000000</td>\n",
       "      <td>0.065485</td>\n",
       "      <td>0.300711</td>\n",
       "      <td>1.159751</td>\n",
       "      <td>2.778968</td>\n",
       "      <td>3.525111</td>\n",
       "      <td>5.706277</td>\n",
       "      <td>10.796035</td>\n",
       "      <td>14.500897</td>\n",
       "      <td>28.576954</td>\n",
       "      <td>...</td>\n",
       "      <td>70.58</td>\n",
       "      <td>72.50</td>\n",
       "      <td>74.10</td>\n",
       "      <td>76.500000</td>\n",
       "      <td>78.389926</td>\n",
       "      <td>80.004300</td>\n",
       "      <td>84.241528</td>\n",
       "      <td>87.237332</td>\n",
       "      <td>87.237332</td>\n",
       "      <td>88.102457</td>\n",
       "    </tr>\n",
       "    <tr>\n",
       "      <th>Israel</th>\n",
       "      <td>0.110774</td>\n",
       "      <td>0.310579</td>\n",
       "      <td>0.398833</td>\n",
       "      <td>0.576966</td>\n",
       "      <td>0.930423</td>\n",
       "      <td>2.168368</td>\n",
       "      <td>4.399405</td>\n",
       "      <td>10.307070</td>\n",
       "      <td>13.436122</td>\n",
       "      <td>20.873790</td>\n",
       "      <td>...</td>\n",
       "      <td>59.39</td>\n",
       "      <td>63.12</td>\n",
       "      <td>67.50</td>\n",
       "      <td>68.873878</td>\n",
       "      <td>70.800000</td>\n",
       "      <td>70.250312</td>\n",
       "      <td>75.017753</td>\n",
       "      <td>77.352090</td>\n",
       "      <td>79.653124</td>\n",
       "      <td>81.581184</td>\n",
       "    </tr>\n",
       "    <tr>\n",
       "      <th>New Zealand</th>\n",
       "      <td>0.000000</td>\n",
       "      <td>0.285941</td>\n",
       "      <td>0.631215</td>\n",
       "      <td>3.168719</td>\n",
       "      <td>4.884241</td>\n",
       "      <td>8.041899</td>\n",
       "      <td>14.601524</td>\n",
       "      <td>31.636261</td>\n",
       "      <td>41.494483</td>\n",
       "      <td>47.379557</td>\n",
       "      <td>...</td>\n",
       "      <td>72.03</td>\n",
       "      <td>79.70</td>\n",
       "      <td>80.46</td>\n",
       "      <td>81.230000</td>\n",
       "      <td>81.644470</td>\n",
       "      <td>82.780000</td>\n",
       "      <td>85.500000</td>\n",
       "      <td>88.222889</td>\n",
       "      <td>88.470186</td>\n",
       "      <td>90.811093</td>\n",
       "    </tr>\n",
       "    <tr>\n",
       "      <th>United Kingdom</th>\n",
       "      <td>0.087355</td>\n",
       "      <td>0.260615</td>\n",
       "      <td>0.519762</td>\n",
       "      <td>1.036609</td>\n",
       "      <td>1.895168</td>\n",
       "      <td>4.123650</td>\n",
       "      <td>7.385399</td>\n",
       "      <td>13.669983</td>\n",
       "      <td>21.293638</td>\n",
       "      <td>26.821754</td>\n",
       "      <td>...</td>\n",
       "      <td>78.39</td>\n",
       "      <td>83.56</td>\n",
       "      <td>85.00</td>\n",
       "      <td>85.379999</td>\n",
       "      <td>87.479998</td>\n",
       "      <td>89.844100</td>\n",
       "      <td>91.610000</td>\n",
       "      <td>92.000300</td>\n",
       "      <td>94.620000</td>\n",
       "      <td>94.620000</td>\n",
       "    </tr>\n",
       "    <tr>\n",
       "      <th>Korea, Rep.</th>\n",
       "      <td>0.023265</td>\n",
       "      <td>0.098404</td>\n",
       "      <td>0.249947</td>\n",
       "      <td>0.311359</td>\n",
       "      <td>0.819687</td>\n",
       "      <td>1.624237</td>\n",
       "      <td>3.600802</td>\n",
       "      <td>6.781815</td>\n",
       "      <td>23.552194</td>\n",
       "      <td>44.700000</td>\n",
       "      <td>...</td>\n",
       "      <td>81.00</td>\n",
       "      <td>81.60</td>\n",
       "      <td>83.70</td>\n",
       "      <td>83.759120</td>\n",
       "      <td>84.070000</td>\n",
       "      <td>84.770000</td>\n",
       "      <td>87.556826</td>\n",
       "      <td>89.900000</td>\n",
       "      <td>92.843026</td>\n",
       "      <td>95.097149</td>\n",
       "    </tr>\n",
       "  </tbody>\n",
       "</table>\n",
       "<p>5 rows × 27 columns</p>\n",
       "</div>"
      ],
      "text/plain": [
       "                    1990      1992      1993      1994      1995      1996  \\\n",
       "Estonia         0.000000  0.065485  0.300711  1.159751  2.778968  3.525111   \n",
       "Israel          0.110774  0.310579  0.398833  0.576966  0.930423  2.168368   \n",
       "New Zealand     0.000000  0.285941  0.631215  3.168719  4.884241  8.041899   \n",
       "United Kingdom  0.087355  0.260615  0.519762  1.036609  1.895168  4.123650   \n",
       "Korea, Rep.     0.023265  0.098404  0.249947  0.311359  0.819687  1.624237   \n",
       "\n",
       "                     1997       1998       1999       2000    ...       2008  \\\n",
       "Estonia          5.706277  10.796035  14.500897  28.576954    ...      70.58   \n",
       "Israel           4.399405  10.307070  13.436122  20.873790    ...      59.39   \n",
       "New Zealand     14.601524  31.636261  41.494483  47.379557    ...      72.03   \n",
       "United Kingdom   7.385399  13.669983  21.293638  26.821754    ...      78.39   \n",
       "Korea, Rep.      3.600802   6.781815  23.552194  44.700000    ...      81.00   \n",
       "\n",
       "                 2009   2010       2011       2012       2013       2014  \\\n",
       "Estonia         72.50  74.10  76.500000  78.389926  80.004300  84.241528   \n",
       "Israel          63.12  67.50  68.873878  70.800000  70.250312  75.017753   \n",
       "New Zealand     79.70  80.46  81.230000  81.644470  82.780000  85.500000   \n",
       "United Kingdom  83.56  85.00  85.379999  87.479998  89.844100  91.610000   \n",
       "Korea, Rep.     81.60  83.70  83.759120  84.070000  84.770000  87.556826   \n",
       "\n",
       "                     2015       2016       2017  \n",
       "Estonia         87.237332  87.237332  88.102457  \n",
       "Israel          77.352090  79.653124  81.581184  \n",
       "New Zealand     88.222889  88.470186  90.811093  \n",
       "United Kingdom  92.000300  94.620000  94.620000  \n",
       "Korea, Rep.     89.900000  92.843026  95.097149  \n",
       "\n",
       "[5 rows x 27 columns]"
      ]
     },
     "execution_count": 1,
     "metadata": {},
     "output_type": "execute_result"
    }
   ],
   "source": [
    "%matplotlib inline\n",
    "import pandas as pd\n",
    "import matplotlib.pyplot as plt\n",
    "import numpy as np\n",
    "import os\n",
    "\n",
    "dados = pd.read_excel('Individual_usign_internet.xls')\n",
    "\n",
    "del dados[\"World Development Indicators\"]\n",
    "del dados[\"Unnamed: 2\"]\n",
    "del dados[\"Unnamed: 3\"]\n",
    "\n",
    "header = dados.iloc[2,0:]\n",
    "\n",
    "for valor in range(1,len(header)):\n",
    "    header[valor] = int(header[valor])\n",
    "\n",
    "dados = dados.drop([0,2])\n",
    "\n",
    "paises = [\"Estonia\", \"Israel\", \"New Zealand\", \"United Kingdom\", \"Korea, Rep.\"]\n",
    "\n",
    "dados_v2 = dados\n",
    "\n",
    "dados_v2 = dados_v2.drop(1)\n",
    "\n",
    "dados_v2 = dados_v2.rename(columns = header)\n",
    "\n",
    "dados_v2 = dados_v2.reset_index(drop = True)\n",
    "\n",
    "indice = dados_v2.iloc[0:,0]\n",
    "\n",
    "dados_v2 = dados_v2.rename(index = indice)\n",
    "\n",
    "del dados_v2[\"Country Name\"]\n",
    "\n",
    "dados_v3 = dados_v2.loc[paises[:]]\n",
    "\n",
    "dados_v3 = dados_v3.dropna(axis = \"columns\")\n",
    "\n",
    "dados_v3"
   ]
  },
  {
   "cell_type": "code",
   "execution_count": null,
   "metadata": {},
   "outputs": [],
   "source": []
  },
  {
   "cell_type": "code",
   "execution_count": null,
   "metadata": {},
   "outputs": [],
   "source": []
  },
  {
   "cell_type": "markdown",
   "metadata": {},
   "source": [
    "## Conclusão"
   ]
  },
  {
   "cell_type": "markdown",
   "metadata": {},
   "source": [
    "Responda à pergunta, argumento da melhor forma possível com base nos dados"
   ]
  },
  {
   "cell_type": "code",
   "execution_count": null,
   "metadata": {},
   "outputs": [],
   "source": []
  }
 ],
 "metadata": {
  "kernelspec": {
   "display_name": "Python 3",
   "language": "python",
   "name": "python3"
  },
  "language_info": {
   "codemirror_mode": {
    "name": "ipython",
    "version": 3
   },
   "file_extension": ".py",
   "mimetype": "text/x-python",
   "name": "python",
   "nbconvert_exporter": "python",
   "pygments_lexer": "ipython3",
   "version": "3.7.2"
  }
 },
 "nbformat": 4,
 "nbformat_minor": 4
}
